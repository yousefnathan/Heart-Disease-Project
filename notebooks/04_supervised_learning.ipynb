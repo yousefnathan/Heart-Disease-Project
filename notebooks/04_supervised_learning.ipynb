{
 "cells": [
  {
   "cell_type": "markdown",
   "id": "70dd0a39",
   "metadata": {},
   "source": [
    "# 04 – Supervised Learning (Classification)"
   ]
  },
  {
   "cell_type": "markdown",
   "id": "045cf426-8339-44a6-ae56-bd38bd880804",
   "metadata": {},
   "source": [
    " 1. Import Libraries"
   ]
  },
  {
   "cell_type": "code",
   "execution_count": 1,
   "id": "e7d42fad-7835-4999-8960-3c7b6c548153",
   "metadata": {},
   "outputs": [],
   "source": [
    "import os, numpy as np, pandas as pd\n",
    "from pathlib import Path\n",
    "import matplotlib.pyplot as plt\n",
    "import seaborn as sns\n",
    "import joblib\n",
    "\n",
    "from sklearn.model_selection import train_test_split\n",
    "from sklearn.preprocessing import OneHotEncoder, StandardScaler\n",
    "from sklearn.compose import ColumnTransformer\n",
    "from sklearn.pipeline import Pipeline\n",
    "from sklearn.impute import SimpleImputer\n",
    "from sklearn.metrics import (\n",
    "    accuracy_score, precision_recall_fscore_support, roc_auc_score, roc_curve\n",
    ")\n",
    "\n",
    "from sklearn.linear_model import LogisticRegression\n",
    "from sklearn.tree import DecisionTreeClassifier\n",
    "from sklearn.ensemble import RandomForestClassifier\n",
    "from sklearn.svm import SVC"
   ]
  },
  {
   "cell_type": "markdown",
   "id": "eadd0972-82d8-448f-aaa4-da4244e4c2e4",
   "metadata": {},
   "source": [
    "2. Load Dataset"
   ]
  },
  {
   "cell_type": "code",
   "execution_count": 2,
   "id": "858535f8-dc4c-4621-9b2a-63bcbd37ba95",
   "metadata": {},
   "outputs": [],
   "source": [
    "DATA_PATH = Path(\"C:/Users/youss/Desktop/Heart_Disease_Project/data/heart_disease.csv\")\n",
    "df = pd.read_csv(DATA_PATH)\n",
    "\n",
    "# define target column\n",
    "target = 'target' if 'target' in df.columns else df.columns[-1]\n",
    "X = df.drop(columns=[target])\n",
    "y = df[target]\n",
    "\n",
    "# create results folders\n",
    "os.makedirs(\"../results\", exist_ok=True)\n",
    "os.makedirs(\"../models\", exist_ok=True)"
   ]
  },
  {
   "cell_type": "markdown",
   "id": "afbe4c08-ac63-4bdc-82b6-fd6ec610271d",
   "metadata": {},
   "source": [
    "3. Preprocessing Pipelines"
   ]
  },
  {
   "cell_type": "code",
   "execution_count": 3,
   "id": "b302eb94-7685-4aa5-a3e3-08b44f539b4d",
   "metadata": {},
   "outputs": [],
   "source": [
    "num_cols = X.select_dtypes(include=[np.number]).columns.tolist()\n",
    "cat_cols = [c for c in X.columns if c not in num_cols]\n",
    "\n",
    "numeric_transformer = Pipeline(steps=[\n",
    "    (\"imputer\", SimpleImputer(strategy=\"median\")),\n",
    "    (\"scaler\", StandardScaler())\n",
    "])\n",
    "\n",
    "categorical_transformer = Pipeline(steps=[\n",
    "    (\"imputer\", SimpleImputer(strategy=\"most_frequent\")),\n",
    "    (\"onehot\", OneHotEncoder(handle_unknown=\"ignore\"))\n",
    "])\n",
    "\n",
    "preprocessor = ColumnTransformer([\n",
    "    (\"num\", numeric_transformer, num_cols),\n",
    "    (\"cat\", categorical_transformer, cat_cols)\n",
    "])"
   ]
  },
  {
   "cell_type": "markdown",
   "id": "08d53e54-b581-4c03-ab84-edfe5407c2b1",
   "metadata": {},
   "source": [
    "4. Define Models"
   ]
  },
  {
   "cell_type": "code",
   "execution_count": 4,
   "id": "053c2f45-c485-40bf-b9c4-2220e60d9c1c",
   "metadata": {},
   "outputs": [],
   "source": [
    "models = {\n",
    "    \"LogisticRegression\": LogisticRegression(max_iter=2000),\n",
    "    \"DecisionTree\": DecisionTreeClassifier(random_state=42),\n",
    "    \"RandomForest\": RandomForestClassifier(n_estimators=400, random_state=42),\n",
    "    \"SVM\": SVC(probability=True, kernel=\"rbf\", C=1.0, gamma=\"scale\", random_state=42)\n",
    "}\n",
    "\n",
    "# train/test split\n",
    "X_train, X_test, y_train, y_test = train_test_split(\n",
    "    X, y, test_size=0.2, stratify=y, random_state=42\n",
    ")"
   ]
  },
  {
   "cell_type": "markdown",
   "id": "99a2da73-1425-4804-857b-e79e6b2b4dbe",
   "metadata": {},
   "source": [
    "5. Evaluation Function"
   ]
  },
  {
   "cell_type": "code",
   "execution_count": 5,
   "id": "0ea78d84-35d6-4612-aea9-398315ab412f",
   "metadata": {},
   "outputs": [],
   "source": [
    "def evaluate(pipe, name):\n",
    "    pipe.fit(X_train, y_train)\n",
    "    y_pred = pipe.predict(X_test)\n",
    "    y_proba = pipe.predict_proba(X_test)[:, 1] if hasattr(pipe, \"predict_proba\") else None\n",
    "    \n",
    "    acc = accuracy_score(y_test, y_pred)\n",
    "    prec, rec, f1, _ = precision_recall_fscore_support(\n",
    "        y_test, y_pred, average='binary'\n",
    "    )\n",
    "    auc = roc_auc_score(y_test, y_proba) if y_proba is not None else float(\"nan\")\n",
    "    \n",
    "    # ROC curve plot\n",
    "    if y_proba is not None:\n",
    "        fpr, tpr, _ = roc_curve(y_test, y_proba)\n",
    "        plt.figure()\n",
    "        plt.plot(fpr, tpr, label=f\"{name} (AUC={auc:.2f})\")\n",
    "        plt.plot([0, 1], [0, 1], linestyle=\"--\", color=\"gray\")\n",
    "        plt.xlabel(\"False Positive Rate\")\n",
    "        plt.ylabel(\"True Positive Rate\")\n",
    "        plt.title(f\"ROC Curve - {name}\")\n",
    "        plt.legend(loc=\"lower right\")\n",
    "        plt.tight_layout()\n",
    "        plt.savefig(f\"../results/roc_{name}.png\")\n",
    "        plt.close()\n",
    "    \n",
    "    return {\"model\": name, \"accuracy\": acc, \"precision\": prec, \"recall\": rec, \"f1\": f1, \"auc\": auc}"
   ]
  },
  {
   "cell_type": "markdown",
   "id": "37b8c979-cfb6-47c3-8c47-6f203ef1e06d",
   "metadata": {},
   "source": [
    "6. Train & Evaluate Models"
   ]
  },
  {
   "cell_type": "code",
   "execution_count": 6,
   "id": "bb054762-b1ef-44c7-8d44-28522e5453d0",
   "metadata": {},
   "outputs": [
    {
     "name": "stdout",
     "output_type": "stream",
     "text": [
      "\n",
      "Model Evaluation Metrics:\n",
      "                 model  accuracy  precision    recall        f1       auc\n",
      "2        RandomForest  1.000000   1.000000  1.000000  1.000000  1.000000\n",
      "1        DecisionTree  0.985366   1.000000  0.971429  0.985507  0.985714\n",
      "3                 SVM  0.926829   0.916667  0.942857  0.929577  0.977143\n",
      "0  LogisticRegression  0.809756   0.761905  0.914286  0.831169  0.929810\n"
     ]
    }
   ],
   "source": [
    "rows = []\n",
    "for name, model in models.items():\n",
    "    pipe = Pipeline([(\"preprocess\", preprocessor), (\"model\", model)])\n",
    "    rows.append(evaluate(pipe, name))\n",
    "\n",
    "metrics = pd.DataFrame(rows).sort_values(\"f1\", ascending=False)\n",
    "print(\"\\nModel Evaluation Metrics:\\n\", metrics)\n",
    "\n",
    "# save metrics\n",
    "metrics.to_csv(\"../results/supervised_metrics.csv\", index=False)"
   ]
  },
  {
   "cell_type": "markdown",
   "id": "1f24f52c-b626-459c-b1ac-d1055e2621c3",
   "metadata": {},
   "source": [
    "7. Save Best Model"
   ]
  },
  {
   "cell_type": "code",
   "execution_count": 10,
   "id": "01e37b9a-7b60-4255-97a8-3158b5c6f2b3",
   "metadata": {},
   "outputs": [
    {
     "name": "stdout",
     "output_type": "stream",
     "text": [
      "\n",
      " Saved best pipeline (RandomForest) to ../models/final_model.pkl\n"
     ]
    }
   ],
   "source": [
    "best_name = metrics.iloc[0][\"model\"]\n",
    "best_model = models[best_name]\n",
    "\n",
    "best_pipe = Pipeline([(\"preprocess\", preprocessor), (\"model\", best_model)])\n",
    "best_pipe.fit(X_train, y_train)\n",
    "\n",
    "joblib.dump(best_pipe, \"../models/final_model.pkl\")\n",
    "print(f\"\\n Saved best pipeline ({best_name}) to ../models/final_model.pkl\")"
   ]
  },
  {
   "cell_type": "code",
   "execution_count": null,
   "id": "75632c79-21cd-47a8-b8fb-600f666e5c95",
   "metadata": {},
   "outputs": [],
   "source": []
  },
  {
   "cell_type": "code",
   "execution_count": null,
   "id": "f13994d5-444e-4844-9b7f-ff55ff42aecc",
   "metadata": {},
   "outputs": [],
   "source": []
  }
 ],
 "metadata": {
  "kernelspec": {
   "display_name": "Python 3 (ipykernel)",
   "language": "python",
   "name": "python3"
  },
  "language_info": {
   "codemirror_mode": {
    "name": "ipython",
    "version": 3
   },
   "file_extension": ".py",
   "mimetype": "text/x-python",
   "name": "python",
   "nbconvert_exporter": "python",
   "pygments_lexer": "ipython3",
   "version": "3.11.0"
  }
 },
 "nbformat": 4,
 "nbformat_minor": 5
}
