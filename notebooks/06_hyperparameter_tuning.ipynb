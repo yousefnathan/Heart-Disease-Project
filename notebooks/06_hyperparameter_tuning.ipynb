{
 "cells": [
  {
   "cell_type": "markdown",
   "id": "8bc53e53",
   "metadata": {},
   "source": [
    "# 06 – Hyperparameter Tuning"
   ]
  },
  {
   "cell_type": "markdown",
   "id": "dfca578d-bbd5-4bea-8c38-6fb0d17dc304",
   "metadata": {},
   "source": [
    "1. Import libraries"
   ]
  },
  {
   "cell_type": "code",
   "execution_count": 1,
   "id": "efea9abc-6677-483c-b77e-39037b503d2f",
   "metadata": {},
   "outputs": [],
   "source": [
    "import os\n",
    "import numpy as np\n",
    "import pandas as pd\n",
    "from pathlib import Path\n",
    "\n",
    "from sklearn.model_selection import RandomizedSearchCV, GridSearchCV\n",
    "from sklearn.ensemble import RandomForestClassifier\n",
    "from sklearn.compose import ColumnTransformer\n",
    "from sklearn.pipeline import Pipeline\n",
    "from sklearn.preprocessing import OneHotEncoder, StandardScaler\n",
    "from sklearn.impute import SimpleImputer\n",
    "import joblib\n",
    "from scipy.stats import randint"
   ]
  },
  {
   "cell_type": "markdown",
   "id": "193056ba-b927-4da4-89ea-2c4dc6167f54",
   "metadata": {},
   "source": [
    "2. Load dataset"
   ]
  },
  {
   "cell_type": "code",
   "execution_count": 2,
   "id": "c0ebde00-551f-4141-881f-c0deda27c1a6",
   "metadata": {},
   "outputs": [],
   "source": [
    "DATA_PATH = Path(\"C:/Users/youss/Desktop/Heart_Disease_Project/data/heart_disease.csv\")\n",
    "df = pd.read_csv(DATA_PATH)\n",
    "\n",
    "# define features and target\n",
    "target = \"target\" if \"target\" in df.columns else df.columns[-1]\n",
    "X = df.drop(columns=[target])\n",
    "y = df[target]\n",
    "\n",
    "# separate numerical and categorical features\n",
    "num_cols = X.select_dtypes(include=[np.number]).columns.tolist()\n",
    "cat_cols = [c for c in X.columns if c not in num_cols]\n",
    "\n",
    "# preprocessing pipelines\n",
    "numeric_transformer = Pipeline(steps=[\n",
    "    (\"imputer\", SimpleImputer(strategy=\"median\")),\n",
    "    (\"scaler\", StandardScaler())\n",
    "])\n",
    "\n",
    "categorical_transformer = Pipeline(steps=[\n",
    "    (\"imputer\", SimpleImputer(strategy=\"most_frequent\")),\n",
    "    (\"onehot\", OneHotEncoder(handle_unknown=\"ignore\"))\n",
    "])\n",
    "\n",
    "preprocessor = ColumnTransformer([\n",
    "    (\"num\", numeric_transformer, num_cols),\n",
    "    (\"cat\", categorical_transformer, cat_cols)\n",
    "])\n",
    "\n",
    "# base Random Forest model\n",
    "rf = RandomForestClassifier(random_state=42)\n",
    "pipe = Pipeline([(\"preprocess\", preprocessor), (\"model\", rf)])"
   ]
  },
  {
   "cell_type": "markdown",
   "id": "ac789bf4-f7ac-40b9-81d4-836de00539bc",
   "metadata": {},
   "source": [
    "3. RandomizedSearchCV"
   ]
  },
  {
   "cell_type": "code",
   "execution_count": 3,
   "id": "12c6bf96-0745-49a6-be99-f8ac882485f7",
   "metadata": {},
   "outputs": [
    {
     "name": "stdout",
     "output_type": "stream",
     "text": [
      "Fitting 5 folds for each of 25 candidates, totalling 125 fits\n",
      "Best params (RandomizedSearch): {'model__max_depth': 17, 'model__max_features': 'sqrt', 'model__min_samples_leaf': 1, 'model__min_samples_split': 8, 'model__n_estimators': 720}\n",
      "Best F1 score (RandomizedSearch): 0.9905651859877211\n"
     ]
    }
   ],
   "source": [
    "param_dist = {\n",
    "    \"model__n_estimators\": randint(200, 800),\n",
    "    \"model__max_depth\": randint(3, 20),\n",
    "    \"model__min_samples_split\": randint(2, 20),\n",
    "    \"model__min_samples_leaf\": randint(1, 10),\n",
    "    \"model__max_features\": [\"sqrt\", \"log2\", None],\n",
    "}\n",
    "\n",
    "rs = RandomizedSearchCV(\n",
    "    estimator=pipe,\n",
    "    param_distributions=param_dist,\n",
    "    n_iter=25,            # number of random combinations to try\n",
    "    scoring=\"f1\",         # optimize for F1-score\n",
    "    cv=5,                 # 5-fold cross-validation\n",
    "    n_jobs=-1,            # use all available cores\n",
    "    random_state=42,\n",
    "    verbose=1\n",
    ")\n",
    "\n",
    "rs.fit(X, y)\n",
    "print(\"Best params (RandomizedSearch):\", rs.best_params_)\n",
    "print(\"Best F1 score (RandomizedSearch):\", rs.best_score_)"
   ]
  },
  {
   "cell_type": "markdown",
   "id": "9737c949-6ccb-4029-82bf-dc1eb8a27dd7",
   "metadata": {},
   "source": [
    "4. Optional GridSearchCV"
   ]
  },
  {
   "cell_type": "code",
   "execution_count": 4,
   "id": "0b5b2afc-b5ea-4ef5-8dae-e1389adc1b6c",
   "metadata": {},
   "outputs": [
    {
     "name": "stdout",
     "output_type": "stream",
     "text": [
      "Fitting 5 folds for each of 9 candidates, totalling 45 fits\n",
      "Best params (GridSearch): {'model__max_depth': 15, 'model__n_estimators': 670}\n",
      "Best F1 score (GridSearch): 0.9972093023255815\n"
     ]
    }
   ],
   "source": [
    "# narrow search space around the best values found by RandomizedSearch\n",
    "best_params = rs.best_params_\n",
    "\n",
    "param_grid = {\n",
    "    \"model__n_estimators\": [best_params[\"model__n_estimators\"] - 50,\n",
    "                            best_params[\"model__n_estimators\"],\n",
    "                            best_params[\"model__n_estimators\"] + 50],\n",
    "    \"model__max_depth\": [best_params[\"model__max_depth\"] - 2,\n",
    "                         best_params[\"model__max_depth\"],\n",
    "                         best_params[\"model__max_depth\"] + 2],\n",
    "}\n",
    "\n",
    "gs = GridSearchCV(\n",
    "    estimator=pipe,\n",
    "    param_grid=param_grid,\n",
    "    scoring=\"f1\",\n",
    "    cv=5,\n",
    "    n_jobs=-1,\n",
    "    verbose=1\n",
    ")\n",
    "\n",
    "gs.fit(X, y)\n",
    "print(\"Best params (GridSearch):\", gs.best_params_)\n",
    "print(\"Best F1 score (GridSearch):\", gs.best_score_)"
   ]
  },
  {
   "cell_type": "markdown",
   "id": "30ab75ba-4f3e-4b86-af50-13d6462f737b",
   "metadata": {},
   "source": [
    "5. Save Best Model"
   ]
  },
  {
   "cell_type": "code",
   "execution_count": 7,
   "id": "46e90d98-1a6a-4ae3-b22e-b3a26ec38a20",
   "metadata": {},
   "outputs": [
    {
     "name": "stdout",
     "output_type": "stream",
     "text": [
      "Saved tuned pipeline to ../models/final_model.pkl\n"
     ]
    }
   ],
   "source": [
    "# choose the best between RandomizedSearch and GridSearch\n",
    "final_model = gs.best_estimator_ if gs.best_score_ > rs.best_score_ else rs.best_estimator_\n",
    "\n",
    "os.makedirs(\"../models\", exist_ok=True)\n",
    "joblib.dump(final_model, \"../models/final_model.pkl\")\n",
    "print(\"Saved tuned pipeline to ../models/final_model.pkl\")"
   ]
  },
  {
   "cell_type": "code",
   "execution_count": null,
   "id": "4acdb577-accd-48f2-b287-d5428c7ea1cf",
   "metadata": {},
   "outputs": [],
   "source": []
  }
 ],
 "metadata": {
  "kernelspec": {
   "display_name": "Python 3 (ipykernel)",
   "language": "python",
   "name": "python3"
  },
  "language_info": {
   "codemirror_mode": {
    "name": "ipython",
    "version": 3
   },
   "file_extension": ".py",
   "mimetype": "text/x-python",
   "name": "python",
   "nbconvert_exporter": "python",
   "pygments_lexer": "ipython3",
   "version": "3.11.0"
  }
 },
 "nbformat": 4,
 "nbformat_minor": 5
}
